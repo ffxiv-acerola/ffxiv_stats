{
 "cells": [
  {
   "cell_type": "markdown",
   "metadata": {},
   "source": [
    "# 6.5 WHM Damage validation\n",
    "\n",
    "Checking if atk mod of 195 is correct.\n",
    "\n",
    "Data includes Glare III spam (310p), Assize (400p), and Dia ticks (65p)"
   ]
  },
  {
   "cell_type": "code",
   "execution_count": 12,
   "metadata": {},
   "outputs": [],
   "source": [
    "import sys\n",
    "sys.path.append('../../')\n",
    "\n",
    "from ffxiv_stats.jobs import Healer\n",
    "\n",
    "import numpy as np"
   ]
  },
  {
   "cell_type": "markdown",
   "metadata": {},
   "source": [
    "Read in data"
   ]
  },
  {
   "cell_type": "code",
   "execution_count": 27,
   "metadata": {},
   "outputs": [],
   "source": [
    "glare_csv = np.genfromtxt('6_5_whm_glare_3.csv', delimiter=',')\n",
    "assize_csv = np.genfromtxt('6_5_whm_assize.csv', delimiter=',')"
   ]
  },
  {
   "cell_type": "code",
   "execution_count": 44,
   "metadata": {},
   "outputs": [],
   "source": [
    "mind = 3341\n",
    "intelligence = 410\n",
    "vit = 3280\n",
    "strength = 213\n",
    "dexterity = 411\n",
    "determination = 1939\n",
    "sks = 400\n",
    "sps = 820\n",
    "ten = 400\n",
    "dh = 724\n",
    "ch = 2346\n",
    "wd = 128\n",
    "delay = 3.44\n",
    "\n",
    "whm = Healer(mind, intelligence, vit, strength, dexterity, determination,\n",
    "             sks, sps, ten, ch, dh, wd, delay)\n"
   ]
  },
  {
   "cell_type": "markdown",
   "metadata": {},
   "source": [
    "Average D2 is will within standard error of avg value, 195 is probably correct."
   ]
  },
  {
   "cell_type": "code",
   "execution_count": 45,
   "metadata": {},
   "outputs": [
    {
     "name": "stdout",
     "output_type": "stream",
     "text": [
      "Data S.E. 22.1\n",
      "D2 error, mean 4.4\n",
      "D2 error, (max - min) -9.0\n"
     ]
    }
   ],
   "source": [
    "glare_d2 = whm.direct_d2(310)\n",
    "print(f\"Data S.E. {glare_csv.std() / np.sqrt(glare_csv.size):3.1f}\")\n",
    "print(f\"D2 error, mean {glare_csv.mean() - glare_d2:3.1f}\")\n",
    "print(f\"D2 error, (max - min) {glare_csv.min() + (glare_csv.max() - glare_csv.min()) / 2 - glare_d2:3.1f}\")"
   ]
  },
  {
   "cell_type": "markdown",
   "metadata": {},
   "source": [
    "Assize has a huge standard error because of small N, but appears to be close."
   ]
  },
  {
   "cell_type": "code",
   "execution_count": 46,
   "metadata": {},
   "outputs": [
    {
     "name": "stdout",
     "output_type": "stream",
     "text": [
      "Data S.E. 98.7\n",
      "D2 error, mean 144.3\n",
      "D2 error, (max - min) -4.5\n"
     ]
    }
   ],
   "source": [
    "assize_d2 = whm.direct_d2(400)\n",
    "print(f\"Data S.E. {assize_csv.std() / np.sqrt(assize_csv.size):3.1f}\")\n",
    "print(f\"D2 error, mean {assize_csv.mean() - assize_d2:3.1f}\")\n",
    "print(f\"D2 error, (max - min) {assize_csv.min() + (assize_csv.max() - assize_csv.min()) / 2 - assize_d2:3.1f}\")"
   ]
  },
  {
   "cell_type": "markdown",
   "metadata": {},
   "source": [
    "These seem to match FFLogs values"
   ]
  },
  {
   "cell_type": "code",
   "execution_count": 47,
   "metadata": {},
   "outputs": [
    {
     "data": {
      "text/plain": [
       "(2601.0, 2548.0)"
      ]
     },
     "execution_count": 47,
     "metadata": {},
     "output_type": "execute_result"
    }
   ],
   "source": [
    "a = whm.dot_d2(65, magic=True)\n",
    "a, whm.direct_d2(65)"
   ]
  },
  {
   "cell_type": "code",
   "execution_count": 38,
   "metadata": {},
   "outputs": [
    {
     "data": {
      "text/plain": [
       "2548.0"
      ]
     },
     "execution_count": 38,
     "metadata": {},
     "output_type": "execute_result"
    }
   ],
   "source": []
  },
  {
   "cell_type": "code",
   "execution_count": 41,
   "metadata": {},
   "outputs": [
    {
     "data": {
      "text/plain": [
       "1028.0"
      ]
     },
     "execution_count": 41,
     "metadata": {},
     "output_type": "execute_result"
    }
   ],
   "source": [
    "whm.f_speed_dot()"
   ]
  },
  {
   "cell_type": "code",
   "execution_count": null,
   "metadata": {},
   "outputs": [],
   "source": []
  }
 ],
 "metadata": {
  "kernelspec": {
   "display_name": "Python 3",
   "language": "python",
   "name": "python3"
  },
  "language_info": {
   "codemirror_mode": {
    "name": "ipython",
    "version": 3
   },
   "file_extension": ".py",
   "mimetype": "text/x-python",
   "name": "python",
   "nbconvert_exporter": "python",
   "pygments_lexer": "ipython3",
   "version": "3.11.4"
  }
 },
 "nbformat": 4,
 "nbformat_minor": 2
}
